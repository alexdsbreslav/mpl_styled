{
 "cells": [
  {
   "cell_type": "code",
   "execution_count": 1,
   "id": "b4c91f47-eec6-449a-ac60-9da0cfe91b80",
   "metadata": {},
   "outputs": [],
   "source": [
    "import quicklook as ql"
   ]
  },
  {
   "cell_type": "code",
   "execution_count": 2,
   "id": "9a52faa4-ec6c-4694-9ff8-41f26adf7a19",
   "metadata": {},
   "outputs": [
    {
     "ename": "TypeError",
     "evalue": "__init__() got an unexpected keyword argument 'size'",
     "output_type": "error",
     "traceback": [
      "\u001b[0;31m---------------------------------------------------------------------------\u001b[0m",
      "\u001b[0;31mTypeError\u001b[0m                                 Traceback (most recent call last)",
      "\u001b[0;32m<ipython-input-2-0934243619f6>\u001b[0m in \u001b[0;36m<module>\u001b[0;34m\u001b[0m\n\u001b[0;32m----> 1\u001b[0;31m chart_skeleton = ql.chart_skeleton(\n\u001b[0m\u001b[1;32m      2\u001b[0m \u001b[0msize\u001b[0m \u001b[0;34m=\u001b[0m \u001b[0mql\u001b[0m\u001b[0;34m.\u001b[0m\u001b[0mchart_size\u001b[0m\u001b[0;34m.\u001b[0m\u001b[0mhalf_slide\u001b[0m\u001b[0;34m,\u001b[0m\u001b[0;34m\u001b[0m\u001b[0;34m\u001b[0m\u001b[0m\n\u001b[1;32m      3\u001b[0m \u001b[0mcolor_library\u001b[0m \u001b[0;34m=\u001b[0m \u001b[0mql\u001b[0m\u001b[0;34m.\u001b[0m\u001b[0mcolor_libraries\u001b[0m\u001b[0;34m.\u001b[0m\u001b[0mmariglow\u001b[0m\u001b[0;34m,\u001b[0m\u001b[0;34m\u001b[0m\u001b[0;34m\u001b[0m\u001b[0m\n\u001b[1;32m      4\u001b[0m \u001b[0mtitle\u001b[0m \u001b[0;34m=\u001b[0m \u001b[0;34m''\u001b[0m\u001b[0;34m,\u001b[0m\u001b[0;34m\u001b[0m\u001b[0;34m\u001b[0m\u001b[0m\n\u001b[1;32m      5\u001b[0m \u001b[0mxlabel\u001b[0m \u001b[0;34m=\u001b[0m \u001b[0;34m''\u001b[0m\u001b[0;34m,\u001b[0m\u001b[0;34m\u001b[0m\u001b[0;34m\u001b[0m\u001b[0m\n",
      "\u001b[0;31mTypeError\u001b[0m: __init__() got an unexpected keyword argument 'size'"
     ]
    }
   ],
   "source": [
    "chart_skeleton = ql.chart_skeleton(\n",
    "size = ql.chart_size.half_slide,\n",
    "color_library = ql.color_libraries.mariglow,\n",
    "title = '',\n",
    "xlabel = '',\n",
    "ylabel = '',\n",
    "x_min_max = (0,1), y_min_max = (0,1),\n",
    "xtick_interval = 0.25, ytick_interval = 0.25,\n",
    "xtick_labels = ql.chart_xlabel.default,\n",
    "ytick_labels = ql.chart_ylabel.default,\n",
    "horizontal_gridlines_on = False,\n",
    "vertical_gridlines_on = False);"
   ]
  },
  {
   "cell_type": "code",
   "execution_count": 4,
   "id": "50e25ad5-ff26-4296-8fc7-c5ef4f7a2ab6",
   "metadata": {},
   "outputs": [
    {
     "data": {
      "text/plain": [
       "quicklook.src.cs_attributes.color_libraries.mariglow"
      ]
     },
     "execution_count": 4,
     "metadata": {},
     "output_type": "execute_result"
    }
   ],
   "source": [
    "chart_skeleton.color_library."
   ]
  },
  {
   "cell_type": "code",
   "execution_count": 4,
   "id": "e5a006f2-99c5-4793-9a49-89e586dd42df",
   "metadata": {},
   "outputs": [
    {
     "data": {
      "text/plain": [
       "bool"
      ]
     },
     "execution_count": 4,
     "metadata": {},
     "output_type": "execute_result"
    }
   ],
   "source": [
    "type(True)"
   ]
  },
  {
   "cell_type": "code",
   "execution_count": null,
   "id": "f6dcf940-59f5-4273-ab36-cacef9a9f673",
   "metadata": {},
   "outputs": [],
   "source": []
  }
 ],
 "metadata": {
  "kernelspec": {
   "display_name": "Python [conda env:may2021]",
   "language": "python",
   "name": "conda-env-may2021-py"
  },
  "language_info": {
   "codemirror_mode": {
    "name": "ipython",
    "version": 3
   },
   "file_extension": ".py",
   "mimetype": "text/x-python",
   "name": "python",
   "nbconvert_exporter": "python",
   "pygments_lexer": "ipython3",
   "version": "3.9.5"
  }
 },
 "nbformat": 4,
 "nbformat_minor": 5
}
