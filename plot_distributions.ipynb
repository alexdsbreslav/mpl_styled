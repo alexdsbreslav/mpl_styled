{
 "cells": [
  {
   "cell_type": "code",
   "execution_count": 1,
   "metadata": {},
   "outputs": [],
   "source": [
    "import numpy as np\n",
    "import quicklook\n",
    "import matplotlib.pyplot as plt\n",
    "import seaborn as sns\n",
    "import pandas as pd"
   ]
  },
  {
   "cell_type": "markdown",
   "metadata": {},
   "source": [
    "If the range of the distribution is limited (< 5), then I'll only get a few bins. I need to think about how I increase the precision when necessary."
   ]
  },
  {
   "cell_type": "code",
   "execution_count": 21,
   "metadata": {},
   "outputs": [
    {
     "name": "stdout",
     "output_type": "stream",
     "text": [
      "x_min_max = (-1.0, 1.0)\n",
      "y_min_max = (0.0, 53.0)\n"
     ]
    },
    {
     "data": {
      "image/png": "[encoded data removed]",
      "text/plain": [
       "<Figure size 864x576 with 1 Axes>"
      ]
     },
     "metadata": {
      "needs_background": "light"
     },
     "output_type": "display_data"
    }
   ],
   "source": [
    "auto_fit_to_data = True\n",
    "bins = 'auto'\n",
    "rng = np.random.RandomState(1)\n",
    "data = rng.normal(0, 0.005, size=100)\n",
    "\n",
    "\n",
    "chart_skeleton = quicklook.build_chart_skeleton(size = 'default',\n",
    "title = '',\n",
    "xlabel = '',\n",
    "ylabel = '',\n",
    "x_min_max = (-120,120), y_min_max = (0,30),\n",
    "xtick_interval = 20, ytick_interval = 10,\n",
    "horizontal_gridlines_on = False,\n",
    "vertical_gridlines_on = False);\n",
    "fill = chart_skeleton['color_library']['blue'][8]\n",
    "\n",
    "if np.shape(np.shape(data))[0] != 1:\n",
    "    raise Exception('Data must be 1 dimensional')\n",
    "\n",
    "data = pd.Series(data)\n",
    "\n",
    "# ---- auto set bins to integers between min and max\n",
    "if auto_fit_to_data:\n",
    "    # ---- set xlim to data min and max\n",
    "    plt.xlim(np.floor(np.min(data)), np.ceil(np.max(data)));\n",
    "    print('x_min_max = {}'.format(chart_skeleton['ax'].get_xlim()))\n",
    "    \n",
    "    # ---- set the bins\n",
    "    i = 1\n",
    "    bins = np.arange(np.floor(np.min(data)), np.ceil(np.max(data))+1, i)\n",
    "    while np.shape(bins)[0] > 15:\n",
    "        i += 1\n",
    "        bins = np.arange(np.floor(np.min(data)), np.ceil(np.max(data))+1, i)\n",
    "    \n",
    "    # ---- set ylim to 0 and max in bin\n",
    "    plt.ylim(chart_skeleton['y_min_max'][0], np.ceil(pd.cut(data, bins=bins).value_counts().max()));\n",
    "    print('y_min_max = {}'.format(chart_skeleton['ax'].get_ylim()))\n",
    "    \n",
    "    # ---- set the xticks to be on the bin edges\n",
    "    xticks = bins\n",
    "    plt.xticks(xticks)\n",
    "    # ---- if that creates too many ticks, only plot every nth tick\n",
    "    i = 1\n",
    "    while chart_skeleton['ax'].get_xticks().shape[0] > 10:\n",
    "        i += 1\n",
    "        plt.xticks(xticks[::i])\n",
    "    \n",
    "    # ---- set the yticks to a max of 10 ticks\n",
    "    chart_skeleton['ax'].yaxis.set_major_locator(plt.MaxNLocator(5))\n",
    "\n",
    "# ---- check for too many ticks\n",
    "if chart_skeleton['ax'].get_xticks().shape[0] > 20:\n",
    "    raise Exception('quicklook is trying to plot too many xticks; increase the x_tick_interval')\n",
    "if chart_skeleton['ax'].get_yticks().shape[0] > 20:\n",
    "    raise Exception('quicklook is trying to plot too many yticks; increase the y_tick_interval')\n",
    "\n",
    "chart_skeleton['ax'].hist(data, bins=bins, rwidth=0.85, color=fill, density=False);\n",
    "\n"
   ]
  },
  {
   "cell_type": "code",
   "execution_count": 22,
   "metadata": {},
   "outputs": [
    {
     "data": {
      "text/plain": [
       "array([-1.,  0.,  1.])"
      ]
     },
     "execution_count": 22,
     "metadata": {},
     "output_type": "execute_result"
    }
   ],
   "source": [
    "bins"
   ]
  },
  {
   "cell_type": "code",
   "execution_count": 237,
   "metadata": {},
   "outputs": [
    {
     "data": {
      "text/plain": [
       "32.0"
      ]
     },
     "execution_count": 237,
     "metadata": {},
     "output_type": "execute_result"
    }
   ],
   "source": [
    "bin_size*i"
   ]
  },
  {
   "cell_type": "code",
   "execution_count": 9,
   "metadata": {},
   "outputs": [
    {
     "data": {
      "text/plain": [
       "(-116.0, 110.0)"
      ]
     },
     "execution_count": 9,
     "metadata": {},
     "output_type": "execute_result"
    }
   ],
   "source": [
    "chart_skeleton['ax'].get_xlim()"
   ]
  },
  {
   "cell_type": "code",
   "execution_count": 13,
   "metadata": {},
   "outputs": [
    {
     "data": {
      "text/plain": [
       "array([-116.,  -70.,  -24.,   22.,   68.])"
      ]
     },
     "execution_count": 13,
     "metadata": {},
     "output_type": "execute_result"
    }
   ],
   "source": [
    "chart_skeleton['ax'].get_xticks()[::2]"
   ]
  },
  {
   "cell_type": "code",
   "execution_count": 270,
   "metadata": {},
   "outputs": [
    {
     "data": {
      "text/plain": [
       "array([-116., -100.,  -84.,  -68.,  -52.,  -36.,  -20.,   -4.,   12.,\n",
       "         28.,   44.,   60.,   76.,   92.,  108.])"
      ]
     },
     "execution_count": 270,
     "metadata": {},
     "output_type": "execute_result"
    }
   ],
   "source": [
    "bins"
   ]
  },
  {
   "cell_type": "code",
   "execution_count": null,
   "metadata": {},
   "outputs": [],
   "source": []
  }
 ],
 "metadata": {
  "kernelspec": {
   "display_name": "Python 3",
   "language": "python",
   "name": "python3"
  },
  "language_info": {
   "codemirror_mode": {
    "name": "ipython",
    "version": 3
   },
   "file_extension": ".py",
   "mimetype": "text/x-python",
   "name": "python",
   "nbconvert_exporter": "python",
   "pygments_lexer": "ipython3",
   "version": "3.7.6"
  }
 },
 "nbformat": 4,
 "nbformat_minor": 4
}
