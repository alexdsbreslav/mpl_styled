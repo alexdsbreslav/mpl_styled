import quicklook as ql
import numpy as np
import pandas as pd


chart_skeleton = ql.chart_skeleton(
size = ql.chart_size.half_slide,
color_library = ql.color_libraries.mariglow,
title = 'Title',
xlabel = 'Days',
ylabel = '',
x_min_max = (0,1), y_min_max = (-0.5,1),
xtick_interval = 0.25, ytick_interval = 0.25,
xtick_labels = ql.chart_xlabel.default,
ytick_labels = ql.chart_ylabel.default,
horizontal_gridlines_on = True,
vertical_gridlines_on = True);

# ---- [PLACEHOLDER] describe your line plot -------------------------------
line = ql.line_plot(chart_skeleton,
x = np.linspace(0,1,10),
y = np.linspace(0,1,10),
yerror = np.full(10,0.05), #If no values, None
color = chart_skeleton.color_library.default,
linewidth = 5,
linestyle = '-', #['-', '--', ':', '-.']
marker_shape = None, #['o', '.', 'v', '^', 's', 'd', 'D', 'X', 'x']
opacity = 1,
label_for_legend = 'Blue',
plot_label = True,
layer_order = 2)

line = ql.line_plot(chart_skeleton,
x = np.linspace(0,1,10),
y = np.linspace(0,1,10)**3 - 0.1,
yerror = np.full(10,0.05), #If no values, None
color = chart_skeleton.color_library.black,
linewidth = 5,
linestyle = '-', #['-', '--', ':', '-.']
marker_shape = None, #['o', '.', 'v', '^', 's', 'd', 'D', 'X', 'x']
opacity = 1,
label_for_legend = 'Black',
plot_label = True,
layer_order = 2)

ref_line = ql.reference_line(chart_skeleton,
line_type = 'h', #['h' (hor), 'v' (vert), 'du' (diag up), 'dd' (diag down)]
location = 0.5, #If diag-up or diag-down, None
color = chart_skeleton.color_library.text,
linewidth = 2,
linestyle = '--', #['-', '--', ':', '-.']
marker_shape = None, #['o', '.', 'v', '^', 's', 'd', 'D', 'X', 'x']
opacity = 1,
label_for_legend = '',
layer_order = 0)

text = ql.text(chart_skeleton,
text = 'Midpoint',
text_size = chart_skeleton.font_style.size.m,
color = chart_skeleton.color_library.text,
text_location_on_x_axis = 0.01,
text_location_on_y_axis = 0.51,
horizontal_align = 'left', #['center', 'left', 'right']
vertical_align = 'bottom', #['center', 'top', 'bottom']
rotation = 0,
box_around_text = False,
layer_order = 1)
               
legend = ql.legend(chart_skeleton,
legend_location = ql.legend.loc.right, frame=True);


np.max((np.linspace(1,0,10)))


ps = plot_style('half_slide','Users')


ps.fonts.


chart_skeleton = ql.chart_skeleton(
size = ql.chart_size.half_slide,
color_library = ql.color_libraries.mariglow,
title = '',
xlabel = '',
ylabel = '',
x_min_max = (0,1), y_min_max = (0,1e6),
xtick_interval = 0.25, ytick_interval = 1e5,
xtick_labels = ql.chart_xlabel.default,
ytick_labels = ql.chart_ylabel.default,
horizontal_gridlines_on = False,
vertical_gridlines_on = False);

y = [4e5,5e5,6e5]
yerr = [1e4,2e4,1e4]

bar = ql.bar_plot(chart_skeleton,
xlabels = ['barA','barB', 'barC'],
y = y,
yerror = yerr, #If no values, None
bars_per_xlabel = 2,
bar_index = 0,
color = chart_skeleton.color_library.default,
opacity = 1,
label_for_legend = '',
layer_order = 1)
