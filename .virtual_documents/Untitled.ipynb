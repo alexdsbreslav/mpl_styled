import quicklook as ql
import numpy as np
import pandas as pd


chart_skeleton = ql.chart_skeleton(
size = ql.chart_size.half_slide,
color_library = ql.color_libraries.skygrove,
title = '',
xlabel = '',
ylabel = '',
x_min_max = (0,1), y_min_max = (0,1),
xtick_interval = 0.25, ytick_interval = 0.25,
xtick_labels = ql.chart_xlabel.default,
ytick_labels = ql.chart_ylabel.default,
horizontal_gridlines_on = False,
vertical_gridlines_on = False);

scatter = ql.scatter_plot(chart_skeleton,
x = np.linspace(0,1,10),
y = np.random.rand(10),
x_error = None, #If no values, None
y_error = np.full(10,0.05), #If no values, None
color = chart_skeleton.color_library.default,
marker_shape = 'o', #['o', '.', 'v', '^', 's', 'd', 'D', 'X', 'x', '']
opacity = 1,
label_for_legend = '',
layer_order = 1)

scatter = ql.scatter_plot(chart_skeleton,
x = np.linspace(0,1,10),
y = np.random.rand(10),
x_error = np.full(10,0.05), #If no values, None
y_error = np.full(10,0.05), #If no values, None
color = chart_skeleton.color_library.sea_green,
marker_shape = 'o', #['o', '.', 'v', '^', 's', 'd', 'D', 'X', 'x', '']
opacity = 1,
label_for_legend = '',
layer_order = 1)





chart_skeleton = ql.chart_skeleton(
size = ql.chart_size.half_slide,
color_library = ql.color_libraries.skygrove,
title = '',
xlabel = '',
ylabel = '',
x_min_max = (0,1), y_min_max = (0,1),
xtick_interval = 0.25, ytick_interval = 0.25,
xtick_labels = ql.chart_xlabel.default,
ytick_labels = ql.chart_ylabel.default,
horizontal_gridlines_on = False,
vertical_gridlines_on = False);

dist = ql.distribution_plot(chart_skeleton,
data = np.random.normal(0,1,100),
override_chart_skeleton = True,
distribution_min_max = (None,None),
bin_interval = None, #If dist_type is smooth_density, None
dist_type = 'binned_counts', #['binned_counts', 'binned_density', 'smooth_density']
color = chart_skeleton.color_library.default,
color_brightness = 'default', #{}
opacity = 1,
label_for_legend = '',
layer_order = 1)


# ---- create data
rng = np.random.RandomState(4)

shape = rng.randint(2e3,5e3,31)
exposures = np.full(31,100000)

control = shape
p = control/exposures
pqnc = p*(1-p)/exposures

treat0 = np.round(shape * (1.4 * rng.uniform(0.9,1.1,31)))
p = treat0/exposures
pqn0 = p*(1-p)/exposures

treat1 = np.round(shape * (1.04 * rng.uniform(0.8,1.2,31)))
p = treat1/exposures
pqn1 = p*(1-p)/exposures

treat2 = np.round(shape * (1.12 * rng.uniform(0.7,1.3,31)))
p = treat2/exposures
pqn2 = p*(1-p)/exposures

# ---- plot
chart_skeleton = ql.chart_skeleton(
size = ql.chart_size.half_slide,
color_library = ql.color_libraries.skygrove,
title = 'Effect on Day 30 Conversions',
xlabel = 'Days Since Exposure',
ylabel = 'Abs\nDiff',
x_min_max = (0,30), y_min_max = (-0.006,0.018),
xtick_interval = 2, ytick_interval = 0.002,
xtick_labels = ql.chart_xlabel.default,
ytick_labels = ql.chart_ylabel.percents,
horizontal_gridlines_on = False,
vertical_gridlines_on = False);

# ---- [PLACEHOLDER] describe your line plot -------------------------------
line = ql.line_plot(chart_skeleton,
x = np.linspace(0,30,31),
y = (treat0.cumsum() - control.cumsum())/exposures.cumsum(),
yerror = 1.96*np.sqrt(pqnc+pqn0), #If no values, None
color = chart_skeleton.color_library.default,
linewidth = 5,
linestyle = '-', #['-', '--', ':', '-.']
marker_shape = None, #['o', '.', 'v', '^', 's', 'd', 'D', 'X', 'x']
opacity = 1,
label_for_legend = 'Treament A',
plot_label = True,
layer_order = 2)

# ---- [PLACEHOLDER] describe your line plot -------------------------------
line = ql.line_plot(chart_skeleton,
x = np.linspace(0,30,31),
y = (treat1.cumsum()-control.cumsum())/exposures.cumsum(),
yerror = 1.96*np.sqrt(pqnc+pqn1), #If no values, None
color = chart_skeleton.color_library.periwinkle,
linewidth = 5,
linestyle = '-', #['-', '--', ':', '-.']
marker_shape = None, #['o', '.', 'v', '^', 's', 'd', 'D', 'X', 'x']
opacity = 1,
label_for_legend = 'Treatment B',
plot_label = True,
layer_order = 2)

# ---- [PLACEHOLDER] describe your line plot -------------------------------
line = ql.line_plot(chart_skeleton,
x = np.linspace(0,30,31),
y = (treat2.cumsum()-control.cumsum())/exposures.cumsum(),
yerror = 1.96*np.sqrt(pqnc+pqn2), #If no values, None
color = chart_skeleton.color_library.sea_green,
linewidth = 5,
linestyle = '-', #['-', '--', ':', '-.']
marker_shape = None, #['o', '.', 'v', '^', 's', 'd', 'D', 'X', 'x']
opacity = 1,
label_for_legend = 'Treatment C',
plot_label = True,
layer_order = 2)

# ---- [PLACEHOLDER] describe reference line -------------------------------
ref_line = ql.reference_line(chart_skeleton,
line_type = 'h', #['h' (hor), 'v' (vert), 'du' (diag-up), 'dd' (diag-down)]
location = 0, #If diag-up or diag-down, None
color = chart_skeleton.color_library.text,
linewidth = 2,
linestyle = '--', #['-', '--', ':', '-.']
marker_shape = None, #['o', '.', 'v', '^', 's', 'd', 'D', 'X', 'x']
opacity = 1,
label_for_legend = '',
layer_order = 1)

text = ql.text(chart_skeleton,
text = 'Control',
text_size = chart_skeleton.font_style.size.l,
color = chart_skeleton.color_library.text,
text_location_on_x_axis = 30,
text_location_on_y_axis = -0.015*0.01,
horizontal_align = 'right', #['center', 'left', 'right']
vertical_align = 'top', #['center', 'top', 'bottom']
rotation = 0,
box_around_text = False,
layer_order = 1)

# legend = ql.legend(chart_skeleton,
# legend_location = ql.legend.loc.low_center, frame=False);


exposures.sum() * 12 * ((treat0.cumsum() - control.cumsum())/exposures.cumsum())[-1]


control.cumsum()/exposures.cumsum()


ps = plot_style('half_slide','Users')


ps.fonts.


chart_skeleton = ql.chart_skeleton(
size = ql.chart_size.half_slide,
color_library = ql.color_libraries.mariglow,
title = '',
xlabel = '',
ylabel = '',
x_min_max = (0,1), y_min_max = (0,1e6),
xtick_interval = 0.25, ytick_interval = 1e5,
xtick_labels = ql.chart_xlabel.default,
ytick_labels = ql.chart_ylabel.default,
horizontal_gridlines_on = False,
vertical_gridlines_on = False);

y = [4e5,5e5,6e5]
yerr = [1e4,2e4,1e4]

bar = ql.bar_plot(chart_skeleton,
xlabels = ['barA','barB', 'barC'],
y = y,
yerror = yerr, #If no values, None
bars_per_xlabel = 2,
bar_index = 0,
color = chart_skeleton.color_library.default,
opacity = 1,
label_for_legend = '',
layer_order = 1)
