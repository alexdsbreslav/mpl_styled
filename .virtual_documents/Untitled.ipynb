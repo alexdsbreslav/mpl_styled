import quicklook as ql


chart_skeleton = ql.chart_skeleton(
size = ql.chart_size.half_slide,
color_library = ql.color_libraries.mariglow,
title = '',
xlabel = '',
ylabel = '',
x_min_max = (0,1), y_min_max = (0,1),
xtick_interval = 0.25, ytick_interval = 0.25,
xtick_labels = ql.chart_xlabel.default,
ytick_labels = ql.chart_ylabel.default,
horizontal_gridlines_on = False,
vertical_gridlines_on = False);

y = [0.4,0.5,0.7]
yerr = [0.1,0.2,0.1]

bar = ql.bar_plot(chart_skeleton,
xlabels = ['barA','barB', 'barC'],
y = y,
yerror = yerr, #If no values, None
bars_per_xlabel = 10,
bar_index = 0,
color = chart_skeleton.color_library.default,
opacity = 1,
label_for_legend = '',
layer_order = 1)

# bar = ql.bar_plot(chart_skeleton,
# xlabels = ['barC','barB'],
# y = [0.65,0.2],
# yerror = [0.4,0.3], #If no values, None
# bars_per_xlabel = 2,
# bar_index = 1,
# color = chart_skeleton.color_library.orange,
# opacity = 1,
# label_for_legend = '',
# layer_order = 1)


np.linspace(y[i]-yerr[i], y[i]+yerr[i],10)


import matplotlib.pyplot as plt
a,b,c = plt.errorbar(x=0.225, y=0.65, yerr=0.2, fmt=':',
                          linewidth=5, color=chart_skeleton.color_library.orange[2],
                          alpha=1,
                          zorder = 5,
                          solid_joinstyle='round',
                          solid_capstyle='round')



a.get_data()


import numpy as np
plt.plot(np.full(10,5), np.linspace(0,10,10), '-', solid_capstyle='round', lw=5)



