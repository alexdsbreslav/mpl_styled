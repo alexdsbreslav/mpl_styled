import quicklook as ql
import numpy as np
import pandas as pd


print(ql.templates.stepwise_reveal)


print(ql.templates.stepwise_reveal)


print(ql.templates.stepwise_reveal)


print(ql.templates.stepwise_reveal)


for element in range(4): #insert number of elements here
    chart_skeleton = ql.chart_skeleton(
    size = ql.chart_size.half_slide,
    color_library = ql.color_libraries.mariglow,
    title = '',
    xlabel = '',
    ylabel = '',
    x_min_max = (0,1), y_min_max = (0,1),
    xtick_interval = 0.25, ytick_interval = 0.25,
    xtick_labels = ql.chart_xlabel.default,
    ytick_labels = ql.chart_ylabel.default,
    horizontal_gridlines_on = False,
    vertical_gridlines_on = False);

    # ---- first element ---------------------------------------------------
    if element >= 0:
        # ---- enter code here

    # ---- second element --------------------------------------------------
    if element >= 1:
        # ---- enter code here

    # ---- third element ---------------------------------------------------
    if element >= 2:
        # ---- enter code here

    # ---- fourth element --------------------------------------------------
    if element >= 3:
        # ---- enter code here

    legend = ql.legend(chart_skeleton,
    legend_location = ql.legend.loc.best, frame=False);


chart_skeleton = ql.chart_skeleton(
size = ql.chart_size.half_slide,
color_library = ql.color_libraries.mariglow,
title = 'Title',
xlabel = 'Days',
ylabel = 'Users',
x_min_max = (0,1), y_min_max = (0,1),
xtick_interval = 0.25, ytick_interval = 0.25,
xtick_labels = ql.chart_xlabel.default,
ytick_labels = ql.chart_ylabel.default,
horizontal_gridlines_on = False,
vertical_gridlines_on = False);

line = ql.line_plot(chart_skeleton,
x = np.linspace(0,1,10),
y = np.linspace(0,1,10),
yerror = np.full(10,0.05), #If no values, None
color = chart_skeleton.color_library.default,
linewidth = 5,
linestyle = '-', #['-', '--', ':', '-.']
marker_shape = '', #['None', 'o', '.', 'v', '^', 's', 'd', 'D', 'X', 'x']
opacity = 1,
label_for_legend = 'Blue',
layer_order = 1)

line = ql.line_plot(chart_skeleton,
x = np.linspace(1,0,10),
y = np.linspace(0,1,10)**2,
yerror = np.full(10,0.05), #If no values, None
color = chart_skeleton.color_library.orange,
linewidth = 5,
linestyle = '-', #['-', '--', ':', '-.']
marker_shape = '', #['None', 'o', '.', 'v', '^', 's', 'd', 'D', 'X', 'x']
opacity = 1,
label_for_legend = 'Orange',
layer_order = 1)

ref_line = ql.reference_line(chart_skeleton,
line_type = 'h', #['h' (hor), 'v' (vert), 'du' (diag up), 'dd' (diag down)]
location = 0.5, #If diag-up or diag-down, None
color = chart_skeleton.color_library.text,
linewidth = 2,
linestyle = '--', #['-', '--', ':', '-.']
marker_shape = None, #['o', '.', 'v', '^', 's', 'd', 'D', 'X', 'x']
opacity = 1,
label_for_legend = 'No Diff',
layer_order = 0)

legend = ql.legend(chart_skeleton,
legend_location = ql.legend.loc.right, frame=True);


chart_skeleton.plot_style.fonts.


import os
from matplotlib import font_manager

def find_text_width(text):
    """
    Only used internally
    """
    idx_list = [0]
    idx = 0
    linebreak_idx = 0
    while linebreak_idx != -1:
        linebreak_idx = text[idx:].find('\n')
        if linebreak_idx != -1:
            linebreak_idx = linebreak_idx + idx
            idx_list.append(linebreak_idx)
            idx = linebreak_idx + 1
    if len(idx_list) == 1:
        breaks = 0
        return(breaks, len(text))
    elif len(idx_list) == 2:
        breaks = 1
        return(breaks, np.max([idx_list[1], len(text[idx_list[1]+2:])]))
    else:
        breaks = len(idx_list) - 1
        return(breaks, np.max([idx_list[1]] + \
                     [len(text[idx_list[i]+2:idx_list[i+1]]) for i in range(1,len(idx_list)-2)] + \
                     [len(text[idx_list[-1]+2:])]))

class plot_style:
    class fonts:
        def __init__(self, size):
            # ---- define fonts
            fontsize = {'half_slide': (26,20,18), 'full_slide': (40,34,32)}
            font_folder = os.path.join((os.path.abspath('')), 'quicklook/fonts')
            # ---- handles font files regardless of .ttf or .otf
            # ---- check for title file
            font_dir = os.listdir(font_folder)
    
            if not [i for i in os.listdir(font_folder) if 'title' in i]:
                raise FileNotFoundError('''Make sure that the fonts folder \
                contains a title.ttf or title.otf file''')
            else:
                title_path = os.path.join(
                    font_folder, font_dir[font_dir.index(
                        [i for i in font_dir if 'title' in i][0])])
    
            # ---- check for text file
            if not [i for i in os.listdir(font_folder) if 'text' in i]:
                raise FileNotFoundError('Make sure that the fonts folder \
                    contains a text.ttf or text.otf file')
            else:
                text_path = os.path.join(font_folder,
                    font_dir[font_dir.index(
                        [i for i in font_dir if 'text' in i][0])])
    
            self.title = font_manager.FontProperties(
                fname=title_path, size = fontsize[size][0])
            self.label = font_manager.FontProperties(
                fname=text_path, size = fontsize[size][1])
            self.legend = font_manager.FontProperties(
                fname=text_path,size = fontsize[size][2])
            self.size = fontsize[size]
    
    def __init__(self, size, ylabel):
        """
        Only used internally
        """
        # ---- create style settings for plot padding and ticks
        self.figsize = {'half_slide':(13,8.6666667),
        'full_slide': (23,15)}[size]

        self.label_pad = {'half_slide': (35,3*find_text_width(ylabel)[1] + 70),
        'full_slide': (45,3*find_text_width(ylabel)[1] + 90)}[size]

        self.title_pad = {'half_slide': 35, 'full_slide': 45}[size]
        self.linewidth = {'half_slide': 2, 'full_slide': 3}[size]
        self.tick_pad = {'half_slide': (5, 15), 'full_slide': (7.5, 20)}[size]
        self.tick_length = {'half_slide': 10, 'full_slide': 12.5}[size]
        self.fonts = self.fonts(size)


ps = plot_style('half_slide','Users')


ps.fonts.


chart_skeleton = ql.chart_skeleton(
size = ql.chart_size.half_slide,
color_library = ql.color_libraries.mariglow,
title = '',
xlabel = '',
ylabel = '',
x_min_max = (0,1), y_min_max = (0,1e6),
xtick_interval = 0.25, ytick_interval = 1e5,
xtick_labels = ql.chart_xlabel.default,
ytick_labels = ql.chart_ylabel.default,
horizontal_gridlines_on = False,
vertical_gridlines_on = False);

y = [4e5,5e5,6e5]
yerr = [1e4,2e4,1e4]

bar = ql.bar_plot(chart_skeleton,
xlabels = ['barA','barB', 'barC'],
y = y,
yerror = yerr, #If no values, None
bars_per_xlabel = 2,
bar_index = 0,
color = chart_skeleton.color_library.default,
opacity = 1,
label_for_legend = '',
layer_order = 1)
