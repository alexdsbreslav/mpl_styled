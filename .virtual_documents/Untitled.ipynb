import quicklook as ql
import numpy as np
import pandas as pd





treat0.cumsum()/control.cumsum() - 1


treat0


# ---- create data
rng = np.random.RandomState(4)

shape = rng.randint(2e2,5e2,31)
exposures = np.full(31,10000)

control = shape
p = control/exposures
pqnc = p*(1-p)/exposures

treat0 = np.round(shape * (1.075 * rng.uniform(0.9,1.1,31)))
p = treat0/exposures
pqn0 = p*(1-p)/exposures

treat1 = np.round(shape * (1.01 * rng.uniform(0.9,1.1,31)))
p = treat1/exposures
pqn1 = p*(1-p)/exposures

# ---- plot
chart_skeleton = ql.chart_skeleton(
size = ql.chart_size.half_slide,
color_library = ql.color_libraries.skygrove,
title = 'Experiment Results',
xlabel = 'Days Since Exposure',
ylabel = 'Abs\nDiff',
x_min_max = (0,30), y_min_max = (-0.02,0.08),
xtick_interval = 2, ytick_interval = 0.01,
xtick_labels = ql.chart_xlabel.default,
ytick_labels = ql.chart_ylabel.percents,
horizontal_gridlines_on = False,
vertical_gridlines_on = False);

# ---- [PLACEHOLDER] describe your line plot -------------------------------
line = ql.line_plot(chart_skeleton,
x = np.linspace(0,30,31),
y = (treat0.cumsum()-control.cumsum())/exposures,
yerror = 1.96*np.sqrt(pqnc+pqn0), #If no values, None
color = chart_skeleton.color_library.default,
linewidth = 5,
linestyle = '-', #['-', '--', ':', '-.']
marker_shape = None, #['o', '.', 'v', '^', 's', 'd', 'D', 'X', 'x']
opacity = 1,
label_for_legend = 'Treament A',
plot_label = True,
layer_order = 2)

# ---- [PLACEHOLDER] describe your line plot -------------------------------
line = ql.line_plot(chart_skeleton,
x = np.linspace(0,30,31),
y = (treat1.cumsum()-control.cumsum())/exposures,
yerror = 1.96*np.sqrt(pqnc+pqn1), #If no values, None
color = chart_skeleton.color_library.periwinkle,
linewidth = 5,
linestyle = '-', #['-', '--', ':', '-.']
marker_shape = None, #['o', '.', 'v', '^', 's', 'd', 'D', 'X', 'x']
opacity = 1,
label_for_legend = 'Treatment B',
plot_label = True,
layer_order = 2)

# ---- [PLACEHOLDER] describe reference line -------------------------------
ref_line = ql.reference_line(chart_skeleton,
line_type = 'h', #['h' (hor), 'v' (vert), 'du' (diag-up), 'dd' (diag-down)]
location = 0, #If diag-up or diag-down, None
color = chart_skeleton.color_library.text,
linewidth = 2,
linestyle = '--', #['-', '--', ':', '-.']
marker_shape = None, #['o', '.', 'v', '^', 's', 'd', 'D', 'X', 'x']
opacity = 1,
label_for_legend = '',
layer_order = 1)

text = ql.text(chart_skeleton,
text = 'Control',
text_size = chart_skeleton.font_style.size.m,
color = chart_skeleton.color_library.text,
text_location_on_x_axis = 30,
text_location_on_y_axis = 0.08*0.01,
horizontal_align = 'right', #['center', 'left', 'right']
vertical_align = 'bottom', #['center', 'top', 'bottom']
rotation = 0,
box_around_text = False,
layer_order = 1)


np.max((np.linspace(1,0,10)))


ps = plot_style('half_slide','Users')


ps.fonts.


chart_skeleton = ql.chart_skeleton(
size = ql.chart_size.half_slide,
color_library = ql.color_libraries.mariglow,
title = '',
xlabel = '',
ylabel = '',
x_min_max = (0,1), y_min_max = (0,1e6),
xtick_interval = 0.25, ytick_interval = 1e5,
xtick_labels = ql.chart_xlabel.default,
ytick_labels = ql.chart_ylabel.default,
horizontal_gridlines_on = False,
vertical_gridlines_on = False);

y = [4e5,5e5,6e5]
yerr = [1e4,2e4,1e4]

bar = ql.bar_plot(chart_skeleton,
xlabels = ['barA','barB', 'barC'],
y = y,
yerror = yerr, #If no values, None
bars_per_xlabel = 2,
bar_index = 0,
color = chart_skeleton.color_library.default,
opacity = 1,
label_for_legend = '',
layer_order = 1)
